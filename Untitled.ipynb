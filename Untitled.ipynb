{
 "cells": [
  {
   "cell_type": "code",
   "execution_count": 5,
   "id": "261dd957-156d-4de5-a03f-f0167a633a85",
   "metadata": {},
   "outputs": [],
   "source": [
    "import pandas as pd\n",
    "import os\n",
    "import time\n",
    "from sqlalchemy import create_engine\n",
    "import logging\n",
    "\n",
    "logging.basicConfig(\n",
    "    filename=\"logs/ingestion_db.log\",\n",
    "    level=logging.DEBUG,\n",
    "    format=\"%(asctime)s - %(levelname)s - %(message)s\",\n",
    "    filemode=\"a\"\n",
    ")\n",
    "\n",
    "engine = create_engine('sqlite:///inventory.db')\n",
    "\n",
    "def ingest_db(df, table_name, engine, if_exists_mode):\n",
    "    '''This function ingests the dataframe into database table'''\n",
    "    df.to_sql(table_name, con=engine, if_exists=if_exists_mode, index=False)\n",
    "\n",
    "def load_raw_data():\n",
    "    '''this function will load the CSVs as dataframe and ingest into db'''\n",
    "    start = time.time()\n",
    "    for file in os.listdir('../data'):\n",
    "        if '.csv' in file:\n",
    "            file_path = os.path.join('../data', file)\n",
    "            table_name = file[:-4]\n",
    "            logging.info(f'Ingesting {file} in db')\n",
    "            try:\n",
    "                first_chunk = True\n",
    "                for chunk in pd.read_csv(file_path, chunksize=50000):\n",
    "                    mode = 'replace' if first_chunk else 'append'\n",
    "                    ingest_db(chunk, table_name, engine, mode)\n",
    "                    first_chunk = False\n",
    "            except Exception as e:\n",
    "                logging.error(f\"Failed to ingest {file}: {e}\")\n",
    "    end = time.time()\n",
    "    total_time = (end - start) / 60\n",
    "    logging.info('----------Ingestion Complete-----------')\n",
    "    logging.info(f'Total Time Taken: {total_time:.2f} minutes')\n",
    "\n",
    "\n",
    "if __name__ == '__main__':\n",
    "    load_raw_data()\n",
    "\n",
    "\n"
   ]
  },
  {
   "cell_type": "code",
   "execution_count": null,
   "id": "e546177b-c76a-49e8-9b53-af23c9da6430",
   "metadata": {},
   "outputs": [],
   "source": []
  },
  {
   "cell_type": "code",
   "execution_count": null,
   "id": "254b2a4f-a586-42e8-aaaa-6c2c4464be2a",
   "metadata": {},
   "outputs": [],
   "source": []
  }
 ],
 "metadata": {
  "kernelspec": {
   "display_name": "Python [conda env:base] *",
   "language": "python",
   "name": "conda-base-py"
  },
  "language_info": {
   "codemirror_mode": {
    "name": "ipython",
    "version": 3
   },
   "file_extension": ".py",
   "mimetype": "text/x-python",
   "name": "python",
   "nbconvert_exporter": "python",
   "pygments_lexer": "ipython3",
   "version": "3.12.7"
  }
 },
 "nbformat": 4,
 "nbformat_minor": 5
}
